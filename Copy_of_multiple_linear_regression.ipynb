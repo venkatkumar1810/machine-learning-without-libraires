{
  "nbformat": 4,
  "nbformat_minor": 0,
  "metadata": {
    "colab": {
      "name": "Copy of multiple_linear_regression.ipynb",
      "provenance": [],
      "collapsed_sections": []
    },
    "kernelspec": {
      "name": "python3",
      "display_name": "Python 3"
    }
  },
  "cells": [
    {
      "cell_type": "markdown",
      "metadata": {
        "id": "CazISR8X_HUG"
      },
      "source": [
        "# Multiple Linear Regression"
      ]
    },
    {
      "cell_type": "markdown",
      "metadata": {
        "id": "pOyqYHTk_Q57"
      },
      "source": [
        "## Importing the libraries"
      ]
    },
    {
      "cell_type": "code",
      "metadata": {
        "id": "T_YHJjnD_Tja"
      },
      "source": [
        "import numpy as np\n",
        "import matplotlib.pyplot as plt\n",
        "import pandas as pd"
      ],
      "execution_count": null,
      "outputs": []
    },
    {
      "cell_type": "markdown",
      "metadata": {
        "id": "vgC61-ah_WIz"
      },
      "source": [
        "## Importing the dataset"
      ]
    },
    {
      "cell_type": "code",
      "source": [
        "from google.colab import drive\n",
        "drive.mount('/content/drive')"
      ],
      "metadata": {
        "colab": {
          "base_uri": "https://localhost:8080/"
        },
        "id": "fuFUFGruTGIh",
        "outputId": "3f11c4a4-262b-4f2f-adb6-99cfcfb9af9a"
      },
      "execution_count": null,
      "outputs": [
        {
          "output_type": "stream",
          "name": "stdout",
          "text": [
            "Mounted at /content/drive\n"
          ]
        }
      ]
    },
    {
      "cell_type": "code",
      "metadata": {
        "id": "UrxyEKGn_ez7"
      },
      "source": [
        "dataset = pd.read_csv('/content/drive/MyDrive/Machine Learning/Machine+Learning+A-Z+(Codes+and+Datasets).zip (Unzipped Files)/Machine+Learning+A-Z+(Codes+and+Datasets)/Machine Learning A-Z (Codes and Datasets)/Part 2 - Regression/Section 5 - Multiple Linear Regression/Python/50_Startups.csv')\n",
        "X = dataset.iloc[:, :-1].values\n",
        "y = dataset.iloc[:, -1].values"
      ],
      "execution_count": null,
      "outputs": []
    },
    {
      "cell_type": "code",
      "metadata": {
        "id": "GOB3QhV9B5kD",
        "colab": {
          "base_uri": "https://localhost:8080/"
        },
        "outputId": "987ec629-d6ab-48fa-ccaf-72afade197eb"
      },
      "source": [
        "print(X)"
      ],
      "execution_count": null,
      "outputs": [
        {
          "output_type": "stream",
          "name": "stdout",
          "text": [
            "[[165349.2 136897.8 471784.1 'New York']\n",
            " [162597.7 151377.59 443898.53 'California']\n",
            " [153441.51 101145.55 407934.54 'Florida']\n",
            " [144372.41 118671.85 383199.62 'New York']\n",
            " [142107.34 91391.77 366168.42 'Florida']\n",
            " [131876.9 99814.71 362861.36 'New York']\n",
            " [134615.46 147198.87 127716.82 'California']\n",
            " [130298.13 145530.06 323876.68 'Florida']\n",
            " [120542.52 148718.95 311613.29 'New York']\n",
            " [123334.88 108679.17 304981.62 'California']\n",
            " [101913.08 110594.11 229160.95 'Florida']\n",
            " [100671.96 91790.61 249744.55 'California']\n",
            " [93863.75 127320.38 249839.44 'Florida']\n",
            " [91992.39 135495.07 252664.93 'California']\n",
            " [119943.24 156547.42 256512.92 'Florida']\n",
            " [114523.61 122616.84 261776.23 'New York']\n",
            " [78013.11 121597.55 264346.06 'California']\n",
            " [94657.16 145077.58 282574.31 'New York']\n",
            " [91749.16 114175.79 294919.57 'Florida']\n",
            " [86419.7 153514.11 0.0 'New York']\n",
            " [76253.86 113867.3 298664.47 'California']\n",
            " [78389.47 153773.43 299737.29 'New York']\n",
            " [73994.56 122782.75 303319.26 'Florida']\n",
            " [67532.53 105751.03 304768.73 'Florida']\n",
            " [77044.01 99281.34 140574.81 'New York']\n",
            " [64664.71 139553.16 137962.62 'California']\n",
            " [75328.87 144135.98 134050.07 'Florida']\n",
            " [72107.6 127864.55 353183.81 'New York']\n",
            " [66051.52 182645.56 118148.2 'Florida']\n",
            " [65605.48 153032.06 107138.38 'New York']\n",
            " [61994.48 115641.28 91131.24 'Florida']\n",
            " [61136.38 152701.92 88218.23 'New York']\n",
            " [63408.86 129219.61 46085.25 'California']\n",
            " [55493.95 103057.49 214634.81 'Florida']\n",
            " [46426.07 157693.92 210797.67 'California']\n",
            " [46014.02 85047.44 205517.64 'New York']\n",
            " [28663.76 127056.21 201126.82 'Florida']\n",
            " [44069.95 51283.14 197029.42 'California']\n",
            " [20229.59 65947.93 185265.1 'New York']\n",
            " [38558.51 82982.09 174999.3 'California']\n",
            " [28754.33 118546.05 172795.67 'California']\n",
            " [27892.92 84710.77 164470.71 'Florida']\n",
            " [23640.93 96189.63 148001.11 'California']\n",
            " [15505.73 127382.3 35534.17 'New York']\n",
            " [22177.74 154806.14 28334.72 'California']\n",
            " [1000.23 124153.04 1903.93 'New York']\n",
            " [1315.46 115816.21 297114.46 'Florida']\n",
            " [0.0 135426.92 0.0 'California']\n",
            " [542.05 51743.15 0.0 'New York']\n",
            " [0.0 116983.8 45173.06 'California']]\n"
          ]
        }
      ]
    },
    {
      "cell_type": "markdown",
      "metadata": {
        "id": "VadrvE7s_lS9"
      },
      "source": [
        "## Encoding categorical data"
      ]
    },
    {
      "cell_type": "code",
      "metadata": {
        "id": "wV3fD1mbAvsh"
      },
      "source": [
        "from sklearn.compose import ColumnTransformer\n",
        "from sklearn.preprocessing import OneHotEncoder\n",
        "ct = ColumnTransformer(transformers=[('encoder', OneHotEncoder(), [3])], remainder='passthrough')\n",
        "X = np.array(ct.fit_transform(X))"
      ],
      "execution_count": null,
      "outputs": []
    },
    {
      "cell_type": "code",
      "metadata": {
        "id": "4ym3HdYeCGYG",
        "colab": {
          "base_uri": "https://localhost:8080/"
        },
        "outputId": "74767c89-be3e-4c82-d834-59530c56cdfa"
      },
      "source": [
        "print(X)"
      ],
      "execution_count": null,
      "outputs": [
        {
          "output_type": "stream",
          "name": "stdout",
          "text": [
            "[[0.0 0.0 1.0 165349.2 136897.8 471784.1]\n",
            " [1.0 0.0 0.0 162597.7 151377.59 443898.53]\n",
            " [0.0 1.0 0.0 153441.51 101145.55 407934.54]\n",
            " [0.0 0.0 1.0 144372.41 118671.85 383199.62]\n",
            " [0.0 1.0 0.0 142107.34 91391.77 366168.42]\n",
            " [0.0 0.0 1.0 131876.9 99814.71 362861.36]\n",
            " [1.0 0.0 0.0 134615.46 147198.87 127716.82]\n",
            " [0.0 1.0 0.0 130298.13 145530.06 323876.68]\n",
            " [0.0 0.0 1.0 120542.52 148718.95 311613.29]\n",
            " [1.0 0.0 0.0 123334.88 108679.17 304981.62]\n",
            " [0.0 1.0 0.0 101913.08 110594.11 229160.95]\n",
            " [1.0 0.0 0.0 100671.96 91790.61 249744.55]\n",
            " [0.0 1.0 0.0 93863.75 127320.38 249839.44]\n",
            " [1.0 0.0 0.0 91992.39 135495.07 252664.93]\n",
            " [0.0 1.0 0.0 119943.24 156547.42 256512.92]\n",
            " [0.0 0.0 1.0 114523.61 122616.84 261776.23]\n",
            " [1.0 0.0 0.0 78013.11 121597.55 264346.06]\n",
            " [0.0 0.0 1.0 94657.16 145077.58 282574.31]\n",
            " [0.0 1.0 0.0 91749.16 114175.79 294919.57]\n",
            " [0.0 0.0 1.0 86419.7 153514.11 0.0]\n",
            " [1.0 0.0 0.0 76253.86 113867.3 298664.47]\n",
            " [0.0 0.0 1.0 78389.47 153773.43 299737.29]\n",
            " [0.0 1.0 0.0 73994.56 122782.75 303319.26]\n",
            " [0.0 1.0 0.0 67532.53 105751.03 304768.73]\n",
            " [0.0 0.0 1.0 77044.01 99281.34 140574.81]\n",
            " [1.0 0.0 0.0 64664.71 139553.16 137962.62]\n",
            " [0.0 1.0 0.0 75328.87 144135.98 134050.07]\n",
            " [0.0 0.0 1.0 72107.6 127864.55 353183.81]\n",
            " [0.0 1.0 0.0 66051.52 182645.56 118148.2]\n",
            " [0.0 0.0 1.0 65605.48 153032.06 107138.38]\n",
            " [0.0 1.0 0.0 61994.48 115641.28 91131.24]\n",
            " [0.0 0.0 1.0 61136.38 152701.92 88218.23]\n",
            " [1.0 0.0 0.0 63408.86 129219.61 46085.25]\n",
            " [0.0 1.0 0.0 55493.95 103057.49 214634.81]\n",
            " [1.0 0.0 0.0 46426.07 157693.92 210797.67]\n",
            " [0.0 0.0 1.0 46014.02 85047.44 205517.64]\n",
            " [0.0 1.0 0.0 28663.76 127056.21 201126.82]\n",
            " [1.0 0.0 0.0 44069.95 51283.14 197029.42]\n",
            " [0.0 0.0 1.0 20229.59 65947.93 185265.1]\n",
            " [1.0 0.0 0.0 38558.51 82982.09 174999.3]\n",
            " [1.0 0.0 0.0 28754.33 118546.05 172795.67]\n",
            " [0.0 1.0 0.0 27892.92 84710.77 164470.71]\n",
            " [1.0 0.0 0.0 23640.93 96189.63 148001.11]\n",
            " [0.0 0.0 1.0 15505.73 127382.3 35534.17]\n",
            " [1.0 0.0 0.0 22177.74 154806.14 28334.72]\n",
            " [0.0 0.0 1.0 1000.23 124153.04 1903.93]\n",
            " [0.0 1.0 0.0 1315.46 115816.21 297114.46]\n",
            " [1.0 0.0 0.0 0.0 135426.92 0.0]\n",
            " [0.0 0.0 1.0 542.05 51743.15 0.0]\n",
            " [1.0 0.0 0.0 0.0 116983.8 45173.06]]\n"
          ]
        }
      ]
    },
    {
      "cell_type": "markdown",
      "metadata": {
        "id": "WemVnqgeA70k"
      },
      "source": [
        "## Splitting the dataset into the Training set and Test set"
      ]
    },
    {
      "cell_type": "code",
      "metadata": {
        "id": "Kb_v_ae-A-20"
      },
      "source": [
        "from sklearn.model_selection import train_test_split\n",
        "X_train, X_test, y_train, y_test = train_test_split(X, y, test_size = 0.2, random_state = 0)"
      ],
      "execution_count": null,
      "outputs": []
    },
    {
      "cell_type": "markdown",
      "source": [
        "# Feature Scaling"
      ],
      "metadata": {
        "id": "h2xrDIdV17dP"
      }
    },
    {
      "cell_type": "code",
      "source": [
        "from sklearn.preprocessing import StandardScaler\n",
        "sc = StandardScaler()\n",
        "X_train[:, 3:] = sc.fit_transform(X_train[:, 3:])\n",
        "X_test[:, 3:] = sc.transform(X_test[:, 3:])\n",
        "\n",
        "print(X_train)"
      ],
      "metadata": {
        "colab": {
          "base_uri": "https://localhost:8080/"
        },
        "id": "zOkZJD8q1-FF",
        "outputId": "b5302cc0-40f0-47aa-997c-7c6dabe27cda"
      },
      "execution_count": null,
      "outputs": [
        {
          "output_type": "stream",
          "name": "stdout",
          "text": [
            "[[0.0 1.0 0.0 -0.3500645436227844 -0.7854710924793271 0.1011968019362538]\n",
            " [0.0 0.0 1.0 -0.555303187426314 -1.481174262628151 0.02734979174277092]\n",
            " [0.0 1.0 0.0 0.07935762307586282 0.8013338146656704 -0.551521323997471]\n",
            " [1.0 0.0 0.0 -0.5463823849331263 1.3250581707161837 0.07011683779235604]\n",
            " [0.0 1.0 0.0 0.4348537132854595 -0.3559866348200946 0.7514851578736048]\n",
            " [0.0 1.0 0.0 1.2694314288195354 0.855185185174973 0.986031184474382]\n",
            " [0.0 1.0 0.0 1.045250070905001 1.2807704710942711 0.44039999942558483]\n",
            " [0.0 0.0 1.0 -1.529843000700978 0.029420649133439825 -1.6218751012780783]\n",
            " [0.0 0.0 1.0 -1.5397625087372082 -2.767672641730695 -1.6372965026688253]\n",
            " [0.0 0.0 1.0 -0.13115188245559178 1.144977005989267 -0.7694999122824163]\n",
            " [0.0 0.0 1.0 0.927916133722245 -0.029920619212990152 0.4830316172654914]\n",
            " [0.0 1.0 0.0 -0.20932933131592557 -0.29937679537926 -0.8991541175619614]\n",
            " [1.0 0.0 0.0 -0.17870827894287686 0.2251351979981532 -1.2640164249123271]\n",
            " [1.0 0.0 0.0 0.13747089788308053 -0.06929437355020689 0.5038466577007928]\n",
            " [1.0 0.0 0.0 -1.0396762417942589 -1.0507669675123394\n",
            "  -0.43852106261266766]\n",
            " [1.0 0.0 0.0 0.09938347697265615 -0.3679031742499798 0.7818179989277446]\n",
            " [0.0 0.0 1.0 -1.2158017422009575 0.15416246935241742 -1.3494777810472085]\n",
            " [0.0 0.0 1.0 1.0582243665441649 0.9783675684696275 0.8867005055096748]\n",
            " [1.0 0.0 0.0 0.4401195955580429 0.4675474853678242 0.40923215274131525]\n",
            " [1.0 0.0 0.0 -0.15151937028841816 0.6243058551529852 -0.5198305559485576]\n",
            " [0.0 0.0 1.0 1.303611492773351 -0.9107351714849491 1.3017982548865463]\n",
            " [0.0 0.0 1.0 0.49781134864570625 0.837706512410103 0.6514913504683245]\n",
            " [1.0 0.0 0.0 -0.9289721246515195 -0.1871695723258425\n",
            "  -0.23769074738733695]\n",
            " [1.0 0.0 0.0 -1.5514977859885914 -0.24751711592316733\n",
            "  -1.2714049571244492]\n",
            " [1.0 0.0 0.0 1.968710847785411 1.0810671321179492 1.9581809612571657]\n",
            " [0.0 1.0 0.0 0.48063417620032334 0.1517705859153579 0.3863463242625676]\n",
            " [1.0 0.0 0.0 -0.5973919254506589 -2.7854421879174165\n",
            "  -0.04140286602981931]\n",
            " [0.0 0.0 1.0 0.11649007105102568 -0.9313385123897375\n",
            "  -0.49867240911600824]\n",
            " [1.0 0.0 0.0 1.3629007850333776 0.9196489932918887 -0.6028192132885423]\n",
            " [0.0 1.0 0.0 -0.08943162412651208 -0.6814233903950654 0.8312611211294444]\n",
            " [0.0 1.0 0.0 -0.9309329475657485 0.14156606641329023\n",
            "  -0.008214854885267122]\n",
            " [0.0 0.0 1.0 0.14561901880611441 1.173615097457821 0.790507597726031]\n",
            " [0.0 0.0 1.0 0.31947193909459937 1.1635979267068792 -1.6372965026688253]\n",
            " [1.0 0.0 0.0 1.1186784183579679 -0.5683134167614787 0.8329854818685873]\n",
            " [1.0 0.0 0.0 -0.7167135313068757 -1.5609558591515853\n",
            "  -0.21984184393674172]\n",
            " [0.0 1.0 0.0 -1.5230183324084707 -0.29261949289791545 0.7692632693055047]\n",
            " [0.0 0.0 1.0 1.5741368580485635 -0.1823100933791031 1.4665335503277532]\n",
            " [0.0 0.0 1.0 2.0282802885329074 0.5217329933404754 2.184047756769488]\n",
            " [1.0 0.0 0.0 -1.5514977859885914 0.46491494569993663 -1.6372965026688253]\n",
            " [1.0 0.0 0.0 -1.0713540211899808 1.2135072477208355 -1.4077916939760526]]\n"
          ]
        }
      ]
    },
    {
      "cell_type": "markdown",
      "metadata": {
        "id": "k-McZVsQBINc"
      },
      "source": [
        "## Training the Multiple Linear Regression model on the Training set"
      ]
    },
    {
      "cell_type": "code",
      "metadata": {
        "id": "ywPjx0L1BMiD"
      },
      "source": [
        "class multipleLinearRegression():\n",
        "\n",
        "  def __init__(self):\n",
        "    #No instance Variables required\n",
        "    pass\n",
        "\n",
        "  def forward(self,X,y,W):\n",
        "    \"\"\"\n",
        "    Parameters:\n",
        "    X (array) : Independent Features\n",
        "    y (array) : Dependent Features/ Target Variable\n",
        "    W (array) : Weights \n",
        "\n",
        "    Returns:\n",
        "    loss (float) : Calculated Sqaured Error Loss for y and y_pred\n",
        "    y_pred (array) : Predicted Target Variable\n",
        "    \"\"\"\n",
        "    y_pred = sum(W * X)\n",
        "    loss = ((y_pred-y)**2)/2    #Loss = Squared Error, we introduce 1/2 for ease in the calculation\n",
        "    return loss, y_pred\n",
        "\n",
        "  def updateWeights(self,X,y_pred,y_true,W,alpha,index):\n",
        "    \"\"\"\n",
        "    Parameters:\n",
        "    X (array) : Independent Features\n",
        "    y_pred (array) : Predicted Target Variable\n",
        "    y_true (array) : Dependent Features/ Target Variable\n",
        "    W (array) : Weights\n",
        "    alpha (float) : learning rate\n",
        "    index (int) : Index to fetch the corresponding values of W, X and y \n",
        "\n",
        "    Returns:\n",
        "    W (array) : Update Values of Weight\n",
        "    \"\"\"\n",
        "    for i in range(X.shape[1]):\n",
        "      #alpha = learning rate, rest of the RHS is derivative of loss function\n",
        "      W[i] -= (alpha * (y_pred-y_true[index])*X[index][i]) \n",
        "    return W\n",
        "\n",
        "  def train(self, X, y, epochs=10, alpha=0.001, random_state=0):\n",
        "    \"\"\"\n",
        "    Parameters:\n",
        "    X (array) : Independent Feature\n",
        "    y (array) : Dependent Features/ Target Variable\n",
        "    epochs (int) : Number of epochs for training, default value is 10\n",
        "    alpha (float) : learning rate, default value is 0.001\n",
        "\n",
        "    Returns:\n",
        "    y_pred (array) : Predicted Target Variable\n",
        "    loss (float) : Calculated Sqaured Error Loss for y and y_pred\n",
        "    \"\"\"\n",
        "\n",
        "    num_rows = X.shape[0] #Number of Rows\n",
        "    num_cols = X.shape[1] #Number of Columns \n",
        "    W = np.random.randn(1,num_cols) / np.sqrt(num_rows) #Weight Initialization\n",
        "\n",
        "    #Calculating Loss and Updating Weights\n",
        "    train_loss = []\n",
        "    num_epochs = []\n",
        "    train_indices = [i for i in range(X.shape[0])]\n",
        "    for j in range(epochs):\n",
        "      cost=0\n",
        "      np.random.seed(random_state)\n",
        "      np.random.shuffle(train_indices)\n",
        "      for i in train_indices:\n",
        "        loss, y_pred = self.forward(X[i],y[i],W[0])\n",
        "        cost+=loss\n",
        "        W[0] = self.updateWeights(X,y_pred,y,W[0],alpha,i)\n",
        "      train_loss.append(cost)\n",
        "      num_epochs.append(j)\n",
        "    return W[0], train_loss, num_epochs\n",
        "\n",
        "  def test(self, X_test, y_test, W_trained):\n",
        "    \"\"\"\n",
        "    Parameters:\n",
        "    X_test (array) : Independent Features from the Test Set\n",
        "    y_test (array) : Dependent Features/ Target Variable from the Test Set\n",
        "    W_trained (array) : Trained Weights\n",
        "    test_indices (list) : Index to fetch the corresponding values of W_trained,\n",
        "                          X_test and y_test \n",
        "\n",
        "    Returns:\n",
        "    test_pred (list) : Predicted Target Variable\n",
        "    test_loss (list) : Calculated Sqaured Error Loss for y and y_pred\n",
        "    \"\"\"\n",
        "    test_pred = []\n",
        "    test_loss = []\n",
        "    test_indices = [i for i in range(X_test.shape[0])]\n",
        "    for i in test_indices:\n",
        "        loss, y_test_pred = self.forward(X_test[i], W_trained, y_test[i])\n",
        "        test_pred.append(y_test_pred)\n",
        "        test_loss.append(loss)\n",
        "    return test_pred, test_loss\n",
        "    \n",
        "\n",
        "  def predict(self, W_trained, X_sample):\n",
        "    prediction = sum(W_trained * X_sample)\n",
        "    return prediction\n",
        "\n",
        "  def plotLoss(self, loss, epochs):\n",
        "    \"\"\"\n",
        "    Parameters:\n",
        "    loss (list) : Calculated Sqaured Error Loss for y and y_pred\n",
        "    epochs (list): Number of Epochs\n",
        "\n",
        "    Returns: None\n",
        "    Plots a graph of Loss vs Epochs\n",
        "    \"\"\"\n",
        "    plt.plot(epochs, loss)\n",
        "    plt.xlabel('Number of Epochs')\n",
        "    plt.ylabel('Loss')\n",
        "    plt.title('Plot Loss')\n",
        "    plt.show()"
      ],
      "execution_count": null,
      "outputs": []
    },
    {
      "cell_type": "code",
      "source": [
        "#Training \n",
        "regressor = multipleLinearRegression()\n",
        "W_trained, train_loss, num_epochs = regressor.train(X_train, y_train, epochs=200, alpha=0.0001)\n",
        "print(W_trained)"
      ],
      "metadata": {
        "colab": {
          "base_uri": "https://localhost:8080/"
        },
        "id": "qCW9VMUBv7WO",
        "outputId": "cbb0c2b0-9bc9-46c1-eadb-3eaa8a011336"
      },
      "execution_count": null,
      "outputs": [
        {
          "output_type": "stream",
          "name": "stdout",
          "text": [
            "[28827.21 19555.16 28191.3  17691.43  4864.31 12096.31]\n"
          ]
        }
      ]
    },
    {
      "cell_type": "code",
      "source": [
        "test_pred, test_loss = regressor.test(X_test, y_test, W_trained)\n",
        "print(test_pred)"
      ],
      "metadata": {
        "colab": {
          "base_uri": "https://localhost:8080/"
        },
        "id": "h0fcLUVd4p9Z",
        "outputId": "5e3dedce-be61-4237-ee49-81bd4521be26"
      },
      "execution_count": null,
      "outputs": [
        {
          "output_type": "stream",
          "name": "stdout",
          "text": [
            "[256872.28879492817, 114385.20394306075, 201562.64914284888, -135908.47807820275, 683585.0267020644, 252631.21444287495, -200569.4983838138, 95686.77122258605, 203763.11957622494, 435010.493978288]\n"
          ]
        }
      ]
    },
    {
      "cell_type": "code",
      "source": [
        "#Plot the Train Loss\n",
        "regressor.plotLoss(train_loss, num_epochs)"
      ],
      "metadata": {
        "colab": {
          "base_uri": "https://localhost:8080/",
          "height": 295
        },
        "id": "BIyR1mdE5-dH",
        "outputId": "b7e7a627-9ea4-4a92-da21-ea9e08bca3ad"
      },
      "execution_count": null,
      "outputs": [
        {
          "output_type": "display_data",
          "data": {
            "text/plain": [
              "<Figure size 432x288 with 1 Axes>"
            ],
            "image/png": "[encoded data removed]"
          },
          "metadata": {
            "needs_background": "light"
          }
        }
      ]
    },
    {
      "cell_type": "markdown",
      "metadata": {
        "id": "xNkXL1YQBiBT"
      },
      "source": [
        "## Predicting the Test set results"
      ]
    },
    {
      "cell_type": "code",
      "metadata": {
        "id": "TQKmwvtdBkyb",
        "colab": {
          "base_uri": "https://localhost:8080/"
        },
        "outputId": "0fc77807-b9fa-4354-eb73-2edea980aaea"
      },
      "source": [
        "# y_pred = regressor.predict(W_trained, X_test)\n",
        "test_pred = np.array(test_pred)\n",
        "# print(y_pred.reshape(len(y_pred),1))\n",
        "# print(y_test.reshape(len(y_test),1))\n",
        "# np.set_printoptions(precision=2)\n",
        "print(np.concatenate((test_pred.reshape(len(test_pred),1), y_test.reshape(len(y_test),1)),1))\n",
        "# print(y_test.reshape(len(y_test),1))"
      ],
      "execution_count": null,
      "outputs": [
        {
          "output_type": "stream",
          "name": "stdout",
          "text": [
            "[[ 256872.29  103282.38]\n",
            " [ 114385.2   144259.4 ]\n",
            " [ 201562.65  146121.95]\n",
            " [-135908.48   77798.83]\n",
            " [ 683585.03  191050.39]\n",
            " [ 252631.21  105008.31]\n",
            " [-200569.5    81229.06]\n",
            " [  95686.77   97483.56]\n",
            " [ 203763.12  110352.25]\n",
            " [ 435010.49  166187.94]]\n"
          ]
        }
      ]
    },
    {
      "cell_type": "code",
      "source": [
        "from sklearn.metrics import r2_score\n",
        "print(\"Mean absolute error: %.2f\" % np.mean(np.absolute(test_pred - y_test)))\n",
        "print(\"Residual sum of squares (MSE): %.2f\" % np.mean((test_pred - y_test) ** 2))\n",
        "print(\"R2-score: %.2f\" % r2_score(test_pred , y_test) )"
      ],
      "metadata": {
        "id": "FQxsqHTn8cyP",
        "outputId": "2aca208e-d563-4f9c-c0f0-0ff3934b94a9",
        "colab": {
          "base_uri": "https://localhost:8080/"
        }
      },
      "execution_count": null,
      "outputs": [
        {
          "output_type": "stream",
          "name": "stdout",
          "text": [
            "Mean absolute error: 173859.84\n",
            "Residual sum of squares (MSE): 49801451462.80\n",
            "R2-score: 0.15\n"
          ]
        }
      ]
    }
  ]
}