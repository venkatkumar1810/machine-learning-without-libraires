{
  "cells": [
    {
      "cell_type": "markdown",
      "metadata": {
        "id": "l_LulNCC8z96"
      },
      "source": [
        "# Simple Linear Regression"
      ]
    },
    {
      "cell_type": "markdown",
      "metadata": {
        "id": "xpXdowrE9DxW"
      },
      "source": [
        "## Importing the libraries"
      ]
    },
    {
      "cell_type": "code",
      "execution_count": null,
      "metadata": {
        "id": "nhKd4hWx9GFt"
      },
      "outputs": [],
      "source": [
        "import numpy as np\n",
        "import matplotlib.pyplot as plt\n",
        "import pandas as pd"
      ]
    },
    {
      "cell_type": "markdown",
      "metadata": {
        "id": "6JhpWJi59J1p"
      },
      "source": [
        "## Importing the dataset"
      ]
    },
    {
      "cell_type": "code",
      "source": [
        "from google.colab import drive\n",
        "drive.mount('/content/drive')"
      ],
      "metadata": {
        "colab": {
          "base_uri": "https://localhost:8080/"
        },
        "id": "HIr-mwH-OUK2",
        "outputId": "8a0e9e03-e947-46ad-a7e2-d734e49c04e4"
      },
      "execution_count": null,
      "outputs": [
        {
          "output_type": "stream",
          "name": "stdout",
          "text": [
            "Mounted at /content/drive\n"
          ]
        }
      ]
    },
    {
      "cell_type": "code",
      "execution_count": null,
      "metadata": {
        "id": "f8GfYDZ59O18"
      },
      "outputs": [],
      "source": [
        "dataset = pd.read_csv('/content/drive/MyDrive/Machine Learning/Machine+Learning+A-Z+(Codes+and+Datasets).zip (Unzipped Files)/Machine+Learning+A-Z+(Codes+and+Datasets)/Machine Learning A-Z (Codes and Datasets)/Part 2 - Regression/Section 4 - Simple Linear Regression/Python/Salary_Data.csv')\n",
        "X = dataset.iloc[:, :-1].values\n",
        "y = dataset.iloc[:, -1].values"
      ]
    },
    {
      "cell_type": "markdown",
      "metadata": {
        "id": "AyhQaTwP9RzG"
      },
      "source": [
        "## Splitting the dataset into the Training set and Test set"
      ]
    },
    {
      "cell_type": "code",
      "execution_count": null,
      "metadata": {
        "id": "bxOOauiN9VpC"
      },
      "outputs": [],
      "source": [
        "from sklearn.model_selection import train_test_split\n",
        "X_train, X_test, y_train, y_test = train_test_split(X, y, test_size = 1/3, random_state = 0)"
      ]
    },
    {
      "cell_type": "markdown",
      "metadata": {
        "id": "ZijQwFMQ9itx"
      },
      "source": [
        "## Training the Simple Linear Regression model on the Training set"
      ]
    },
    {
      "cell_type": "code",
      "execution_count": null,
      "metadata": {
        "id": "B4Aj_8YJ9l7J"
      },
      "outputs": [],
      "source": [
        "class LinearRegression:\n",
        "    def __init__(self, lr=0.001, iters = 1000): #lr is learning rate or alpha, iters is the number of iterations in the grad descent\n",
        "        self.lr =lr\n",
        "        self.iters = iters\n",
        "        self.w = None\n",
        "        self.b = None\n",
        "    \n",
        "    def fit(self, X, y):\n",
        "        #initialize the w and b values with zero\n",
        "        n_samp, feat = X.shape\n",
        "        self.w = np.zeros(feat)\n",
        "        self.b = 0 \n",
        "        \n",
        "        #initialize with random values\n",
        "        #self.w = np.random.rand(feat)\n",
        "        #self.b = np.random.rand(feat)\n",
        "        \n",
        "        for _ in range(self.iters): \n",
        "            #find the approximation\n",
        "            y_hat = np.dot(X, self.w) + self.b    #dot product of weights and input + bias\n",
        "            #calculate the derivative\n",
        "            dw = (1/n_samp)*2 * np.sum(np.dot(X.T, (y_hat - y)))\n",
        "            db = (1/n_samp) * np.sum((y_hat - y))\n",
        "            #update the weights\n",
        "            self.w -= self.lr*dw\n",
        "            self.b -= self.lr*db\n",
        "            \n",
        "    def predict(self, X):\n",
        "        #calculate the predicted y given X\n",
        "        #use the approximation\n",
        "        y_hat = np.dot(X, self.w) + self.b\n",
        "        return y_hat\n",
        "        \n",
        "# from sklearn.linear_model import LinearRegression\n",
        "# regressor = LinearRegression()\n",
        "# regressor.fit(X_train, y_train)\n",
        "\n",
        "regressor = LinearRegression()\n",
        "regressor.fit(np.array(X_train), np.array(y_train))"
      ]
    },
    {
      "cell_type": "markdown",
      "metadata": {
        "id": "wa2T1Lq89o5H"
      },
      "source": [
        "## Predicting the Test set results"
      ]
    },
    {
      "cell_type": "code",
      "execution_count": null,
      "metadata": {
        "colab": {
          "base_uri": "https://localhost:8080/"
        },
        "id": "Rn_sTJ2o9smm",
        "outputId": "939b4417-56b9-4c82-dc6c-5b9d166b6f3e"
      },
      "outputs": [
        {
          "output_type": "stream",
          "name": "stdout",
          "text": [
            "[ 25311.29577453 137509.07333138  58460.6391436   55910.68965367\n",
            " 127309.27537166 117109.47741195 128584.25011663  57185.66439864\n",
            "  73760.33608317 106909.67945224]\n"
          ]
        }
      ],
      "source": [
        "y_pred = regressor.predict(X_test)\n",
        "print(y_pred)"
      ]
    },
    {
      "cell_type": "markdown",
      "metadata": {
        "id": "-zSoMZ-P9v8t"
      },
      "source": [
        "## Visualising the Training set results"
      ]
    },
    {
      "cell_type": "code",
      "execution_count": null,
      "metadata": {
        "colab": {
          "base_uri": "https://localhost:8080/",
          "height": 295
        },
        "id": "IAePn_u-93tI",
        "outputId": "ae7f79ce-67b4-466d-e414-221d1f6e93a0"
      },
      "outputs": [
        {
          "output_type": "display_data",
          "data": {
            "text/plain": [
              "<Figure size 432x288 with 1 Axes>"
            ],
            "image/png": "[encoded data removed]"
          },
          "metadata": {
            "needs_background": "light"
          }
        }
      ],
      "source": [
        "plt.scatter(X_train, y_train, color = 'red')\n",
        "plt.plot(X_train, regressor.predict(X_train), color = 'blue')\n",
        "plt.title('Salary vs Experience (Training set)')\n",
        "plt.xlabel('Years of Experience')\n",
        "plt.ylabel('Salary')\n",
        "plt.show()"
      ]
    },
    {
      "cell_type": "markdown",
      "metadata": {
        "id": "EUX1Vhsv97ZT"
      },
      "source": [
        "## Visualising the Test set results"
      ]
    },
    {
      "cell_type": "code",
      "execution_count": null,
      "metadata": {
        "colab": {
          "base_uri": "https://localhost:8080/",
          "height": 295
        },
        "id": "Ze9vpBTf-Bol",
        "outputId": "f6e0d74a-4c16-4382-e45a-39f5fbf43400"
      },
      "outputs": [
        {
          "output_type": "display_data",
          "data": {
            "text/plain": [
              "<Figure size 432x288 with 1 Axes>"
            ],
            "image/png": "[encoded data removed]"
          },
          "metadata": {
            "needs_background": "light"
          }
        }
      ],
      "source": [
        "plt.scatter(X_test, y_test, color = 'red')\n",
        "plt.plot(X_train, regressor.predict(X_train), color = 'blue')\n",
        "plt.title('Salary vs Experience (Test set)')\n",
        "plt.xlabel('Years of Experience')\n",
        "plt.ylabel('Salary')\n",
        "plt.show()"
      ]
    },
    {
      "cell_type": "markdown",
      "source": [
        "# Error"
      ],
      "metadata": {
        "id": "aM3d41Hql3_5"
      }
    },
    {
      "cell_type": "code",
      "source": [
        "from sklearn.metrics import r2_score\n",
        "print(\"Mean absolute error: %.2f\" % np.mean(np.absolute(y_pred - y_test)))\n",
        "print(\"Residual sum of squares (MSE): %.2f\" % np.mean((y_pred - y_test) ** 2))\n",
        "print(\"R2-score: %.2f\" % r2_score(y_pred , y_test) )"
      ],
      "metadata": {
        "colab": {
          "base_uri": "https://localhost:8080/"
        },
        "id": "KFnK2rwFl7Cg",
        "outputId": "4931a3d8-19e4-40f0-bfa8-d6b7706e0a45"
      },
      "execution_count": null,
      "outputs": [
        {
          "output_type": "stream",
          "name": "stdout",
          "text": [
            "Mean absolute error: 8443.74\n",
            "Residual sum of squares (MSE): 91955236.09\n",
            "R2-score: 0.93\n"
          ]
        }
      ]
    }
  ],
  "metadata": {
    "colab": {
      "name": "Copy of simple_linear_regression.ipynb",
      "provenance": [],
      "toc_visible": true
    },
    "kernelspec": {
      "display_name": "Python 3",
      "language": "python",
      "name": "python3"
    },
    "language_info": {
      "codemirror_mode": {
        "name": "ipython",
        "version": 3
      },
      "file_extension": ".py",
      "mimetype": "text/x-python",
      "name": "python",
      "nbconvert_exporter": "python",
      "pygments_lexer": "ipython3",
      "version": "3.7.6"
    }
  },
  "nbformat": 4,
  "nbformat_minor": 0
}